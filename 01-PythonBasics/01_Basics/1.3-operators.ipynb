{
 "cells": [
  {
   "cell_type": "markdown",
   "id": "a696db10",
   "metadata": {},
   "source": [
    "### Operators\n",
    "Operators are special symbols in Python that carry out arithmetic or logical computation. The value that the operator operates on is called the operand. For example, in the expression `5 + 3`, `+` is the operator, and `5` and `3` are the operands.\n",
    "\n",
    "#### Types of Operators\n",
    "1. **Arithmetic Operators**: Used to perform mathematical operations.\n",
    "   - Addition (`+`), Subtraction (`-`), Multiplication (`*`), Division (`/`), Modulus (`%`)\n",
    "   - Floor Division (`//`), Exponentiation (`**`)\n",
    "\n",
    "2. **Comparison Operators**: Used to compare values.\n",
    "   - Equal to (`==`), Not equal to (`!=`), Greater than (`>`), Less than (`<`)\n",
    "\n",
    "3. **Logical Operators**: Used to combine conditional statements.\n",
    "   - AND, OR, NOT\n",
    "\n",
    "4. **Assignment Operators**: Used to assign values to variables.\n",
    "   - `=`, `+=`, `-=`, `*=`, `/=`\n",
    "5. **Bitwise Operators**: Used to perform bit-level operations.\n",
    "   - AND (`&`), OR (`|`), XOR (`^`), NOT (`~`), Left Shift (`<<`), Right Shift (`>>`)\n"
   ]
  },
  {
   "cell_type": "code",
   "execution_count": 2,
   "id": "d79da7ff",
   "metadata": {},
   "outputs": [
    {
     "name": "stdout",
     "output_type": "stream",
     "text": [
      "Addition: 16\n",
      "Subtraction: 6\n",
      "Multiplication: 55\n",
      "Division: 2.2\n",
      "Modulus: 1\n",
      "Floor Division: 2\n",
      "Exponentiation: 161051\n"
     ]
    }
   ],
   "source": [
    "# Arithmetic Operators\n",
    "a = 11\n",
    "b = 5\n",
    "print(\"Addition:\", a + b)\n",
    "print(\"Subtraction:\", a - b)\n",
    "print(\"Multiplication:\", a * b)\n",
    "print(\"Division:\", a / b)\n",
    "print(\"Modulus:\", a % b)\n",
    "print(\"Floor Division:\", a // b)\n",
    "print(\"Exponentiation:\", a ** b)"
   ]
  },
  {
   "cell_type": "code",
   "execution_count": 3,
   "id": "e883aead",
   "metadata": {},
   "outputs": [
    {
     "name": "stdout",
     "output_type": "stream",
     "text": [
      "Equal: False\n",
      "Not Equal: True\n",
      "Greater Than: True\n",
      "Less Than: False\n",
      "Greater Than or Equal To: True\n",
      "Less Than or Equal To: False\n"
     ]
    }
   ],
   "source": [
    "# Comparison Operators\n",
    "print(\"Equal:\", a == b)\n",
    "print(\"Not Equal:\", a != b)\n",
    "print(\"Greater Than:\", a > b)\n",
    "print(\"Less Than:\", a < b)\n",
    "print(\"Greater Than or Equal To:\", a >= b)\n",
    "print(\"Less Than or Equal To:\", a <= b)"
   ]
  },
  {
   "cell_type": "code",
   "execution_count": 4,
   "id": "44e5da5e",
   "metadata": {},
   "outputs": [
    {
     "name": "stdout",
     "output_type": "stream",
     "text": [
      "AND: True\n",
      "OR: True\n",
      "NOT: False\n"
     ]
    }
   ],
   "source": [
    "# Logical Operators\n",
    "print(\"AND:\", a > 5 and b < 10)\n",
    "print(\"OR:\", a > 5 or b > 10)\n",
    "print(\"NOT:\", not(a > 5))"
   ]
  },
  {
   "cell_type": "code",
   "execution_count": null,
   "id": "b4d5a66e",
   "metadata": {},
   "outputs": [],
   "source": []
  }
 ],
 "metadata": {
  "kernelspec": {
   "display_name": "Python 3",
   "language": "python",
   "name": "python3"
  },
  "language_info": {
   "codemirror_mode": {
    "name": "ipython",
    "version": 3
   },
   "file_extension": ".py",
   "mimetype": "text/x-python",
   "name": "python",
   "nbconvert_exporter": "python",
   "pygments_lexer": "ipython3",
   "version": "3.12.0"
  }
 },
 "nbformat": 4,
 "nbformat_minor": 5
}
