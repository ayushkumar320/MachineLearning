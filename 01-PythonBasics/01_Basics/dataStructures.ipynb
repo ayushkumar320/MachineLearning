{
 "cells": [
  {
   "cell_type": "markdown",
   "id": "fa37dd43",
   "metadata": {},
   "source": [
    "### Introduction to Lists\n",
    "- Lists are ordered collections of items.\n",
    "- They are defined using square brackets `[]`.\n",
    "- Items in a list can be of any data type (integers, strings, etc.).\n",
    "- Lists are mutable, meaning you can change their content."
   ]
  },
  {
   "cell_type": "code",
   "execution_count": 1,
   "id": "d8f55225",
   "metadata": {},
   "outputs": [
    {
     "name": "stdout",
     "output_type": "stream",
     "text": [
      "<class 'list'>\n"
     ]
    }
   ],
   "source": [
    "lst = []\n",
    "print(type(lst))"
   ]
  },
  {
   "cell_type": "code",
   "execution_count": 2,
   "id": "b536bd8f",
   "metadata": {},
   "outputs": [
    {
     "name": "stdout",
     "output_type": "stream",
     "text": [
      "['Alice', 'Bob', 'Charlie']\n"
     ]
    }
   ],
   "source": [
    "names = [\"Alice\", \"Bob\", \"Charlie\"]\n",
    "print(names)"
   ]
  },
  {
   "cell_type": "code",
   "execution_count": 3,
   "id": "b9afc0c1",
   "metadata": {},
   "outputs": [
    {
     "name": "stdout",
     "output_type": "stream",
     "text": [
      "[1, 'Hello', 3.14, True]\n"
     ]
    }
   ],
   "source": [
    "mixed_list = [1, \"Hello\", 3.14, True]\n",
    "print(mixed_list)"
   ]
  },
  {
   "cell_type": "code",
   "execution_count": 4,
   "id": "a0b593a2",
   "metadata": {},
   "outputs": [
    {
     "name": "stdout",
     "output_type": "stream",
     "text": [
      "Alice\n",
      "Hello\n",
      "['Alice', 'Robert', 'Charlie']\n",
      "['Alice', 'Robert', 'Charlie', 'David']\n",
      "['Robert', 'Charlie', 'David']\n",
      "['Charlie', 'David']\n",
      "[1, 'Hello']\n",
      "[3.14, True]\n",
      "3\n",
      "1\n",
      "['Charlie', 'David', 'Robert']\n",
      "['Robert', 'David', 'Charlie']\n"
     ]
    }
   ],
   "source": [
    "# Operations on Lists\n",
    "# Accessing elements\n",
    "print(names[0])  # Accessing the first element\n",
    "print(mixed_list[1])  # Accessing the second element\n",
    "\n",
    "# Modifying elements\n",
    "names[1] = \"Robert\"\n",
    "print(names)\n",
    "\n",
    "# Adding elements\n",
    "names.append(\"David\")\n",
    "print(names)\n",
    "\n",
    "# Removing elements\n",
    "names.remove(\"Alice\")\n",
    "print(names)\n",
    "\n",
    "# List Slicing\n",
    "print(names[1:3])  # Slicing from index 1 to 2\n",
    "print(mixed_list[:2])  # Slicing the first two elements\n",
    "print(mixed_list[2:])  # Slicing from index 2 to the end\n",
    "# List Methods\n",
    "print(len(names))  # Length of the list\n",
    "print(names.count(\"Charlie\"))  # Count occurrences of \"Charlie\"\n",
    "names.sort()  # Sort the list\n",
    "print(names)\n",
    "names.reverse()  # Reverse the list\n",
    "print(names)\n"
   ]
  },
  {
   "cell_type": "code",
   "execution_count": 5,
   "id": "8730f3cc",
   "metadata": {},
   "outputs": [
    {
     "name": "stdout",
     "output_type": "stream",
     "text": [
      "[0, 1, 4, 9, 16]\n"
     ]
    }
   ],
   "source": [
    "# List Comprehensions\n",
    "squares = [x**2 for x in range(5)]\n",
    "print(squares)"
   ]
  },
  {
   "cell_type": "code",
   "execution_count": 6,
   "id": "ec774435",
   "metadata": {},
   "outputs": [
    {
     "name": "stdout",
     "output_type": "stream",
     "text": [
      "[0, 2, 4, 6, 8]\n"
     ]
    }
   ],
   "source": [
    "even_numbers = [x for x in range(10) if x % 2 == 0]\n",
    "print(even_numbers)"
   ]
  },
  {
   "cell_type": "code",
   "execution_count": 7,
   "id": "201955fd",
   "metadata": {},
   "outputs": [
    {
     "name": "stdout",
     "output_type": "stream",
     "text": [
      "[1, 2, 3, 4, 5, 6, 7, 8, 9]\n"
     ]
    }
   ],
   "source": [
    "# Nested List Comprehensions\n",
    "matrix = [[1, 2, 3], [4, 5, 6], [7, 8, 9]]\n",
    "flattened = [num for row in matrix for num in row]\n",
    "print(flattened)"
   ]
  },
  {
   "cell_type": "code",
   "execution_count": 8,
   "id": "4ef08c28",
   "metadata": {},
   "outputs": [
    {
     "name": "stdout",
     "output_type": "stream",
     "text": [
      "[[1, 4], [1, 5], [1, 6], [2, 4], [2, 5], [2, 6], [3, 4], [3, 5], [3, 6]]\n"
     ]
    }
   ],
   "source": [
    "lst1 = [1, 2, 3]\n",
    "lst2 = [4, 5, 6]\n",
    "pair = [[x, y] for x in lst1 for y in lst2]\n",
    "print(pair)"
   ]
  },
  {
   "cell_type": "markdown",
   "id": "80a762c4",
   "metadata": {},
   "source": [
    "### Intorduction to Tuples\n",
    "- Tuples are similar to lists but are immutable (cannot be changed after creation).\n",
    "- They are defined using parentheses `()`.\n",
    "- Tuples can also contain items of different data types.\n",
    "\n"
   ]
  },
  {
   "cell_type": "code",
   "execution_count": 9,
   "id": "b7cc59ac",
   "metadata": {},
   "outputs": [
    {
     "name": "stdout",
     "output_type": "stream",
     "text": [
      "<class 'tuple'>\n"
     ]
    }
   ],
   "source": [
    "# Tuples\n",
    "\n",
    "empty_tuple = ()\n",
    "print(type(empty_tuple))"
   ]
  },
  {
   "cell_type": "code",
   "execution_count": 10,
   "id": "9fc66726",
   "metadata": {},
   "outputs": [
    {
     "name": "stdout",
     "output_type": "stream",
     "text": [
      "(1, 'Hello', 3.14, True)\n"
     ]
    }
   ],
   "source": [
    "mixed_tuple = (1, \"Hello\", 3.14, True)\n",
    "print(mixed_tuple)"
   ]
  },
  {
   "cell_type": "code",
   "execution_count": 11,
   "id": "6af94247",
   "metadata": {},
   "outputs": [
    {
     "name": "stdout",
     "output_type": "stream",
     "text": [
      "1\n",
      "Hello\n",
      "3.14\n",
      "True\n"
     ]
    }
   ],
   "source": [
    "# Unpacking a Tuple\n",
    "a, b, c, d = mixed_tuple\n",
    "print(a)\n",
    "print(b)\n",
    "print(c)\n",
    "print(d)"
   ]
  },
  {
   "cell_type": "code",
   "execution_count": 13,
   "id": "743b0b7b",
   "metadata": {},
   "outputs": [
    {
     "name": "stdout",
     "output_type": "stream",
     "text": [
      "1\n",
      "[2, 3, 4]\n",
      "5\n"
     ]
    }
   ],
   "source": [
    "# Unpacking with *\n",
    "numbers = (1, 2, 3, 4, 5)\n",
    "first, *middle, last = numbers\n",
    "print(first)\n",
    "print(middle)\n",
    "print(last)"
   ]
  },
  {
   "cell_type": "code",
   "execution_count": null,
   "id": "f6221ae0",
   "metadata": {},
   "outputs": [],
   "source": []
  }
 ],
 "metadata": {
  "kernelspec": {
   "display_name": "Python 3",
   "language": "python",
   "name": "python3"
  },
  "language_info": {
   "codemirror_mode": {
    "name": "ipython",
    "version": 3
   },
   "file_extension": ".py",
   "mimetype": "text/x-python",
   "name": "python",
   "nbconvert_exporter": "python",
   "pygments_lexer": "ipython3",
   "version": "3.12.0"
  }
 },
 "nbformat": 4,
 "nbformat_minor": 5
}
