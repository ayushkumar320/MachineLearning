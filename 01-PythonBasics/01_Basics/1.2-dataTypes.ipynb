{
 "cells": [
  {
   "cell_type": "markdown",
   "id": "a3147b48",
   "metadata": {},
   "source": [
    "### Data types\n",
    "Python has various data types that are used to store different kinds of information. Here are some of the most commonly used data types in Python:\n",
    "1. **Integer (`int`)**: Represents whole numbers, both positive and negative, without decimal points.\n",
    "   ```python\n",
    "   age = 25\n",
    "   ```\n",
    "2. **Float (`float`)**: Represents real numbers, allowing for decimal points.\n",
    "   ```python\n",
    "   height = 5.9\n",
    "   ```\n",
    "3. **String (`str`)**: Represents sequences of characters, used for text.\n",
    "   ```python\n",
    "   name = \"Alice\"\n",
    "   ```\n",
    "4. **Boolean (`bool`)**: Represents truth values, either `True` or `False`.\n",
    "   ```python\n",
    "   is_student = True\n",
    "   ```"
   ]
  },
  {
   "cell_type": "code",
   "execution_count": 1,
   "id": "4b3ec496",
   "metadata": {},
   "outputs": [
    {
     "name": "stdout",
     "output_type": "stream",
     "text": [
      "5\n",
      "3.14\n",
      "Ayush\n",
      "True\n"
     ]
    }
   ],
   "source": [
    "# Integers\n",
    "x = 5\n",
    "print(x)\n",
    "\n",
    "# Floating Point Numbers\n",
    "y = 3.14\n",
    "print(y)\n",
    "\n",
    "# Strings\n",
    "name = \"Ayush\"\n",
    "print(name)\n",
    "\n",
    "# Booleans\n",
    "is_student = True\n",
    "print(is_student)"
   ]
  },
  {
   "cell_type": "code",
   "execution_count": null,
   "id": "f54ae0c0",
   "metadata": {},
   "outputs": [],
   "source": []
  }
 ],
 "metadata": {
  "kernelspec": {
   "display_name": "Python 3",
   "language": "python",
   "name": "python3"
  },
  "language_info": {
   "codemirror_mode": {
    "name": "ipython",
    "version": 3
   },
   "file_extension": ".py",
   "mimetype": "text/x-python",
   "name": "python",
   "nbconvert_exporter": "python",
   "pygments_lexer": "ipython3",
   "version": "3.12.0"
  }
 },
 "nbformat": 4,
 "nbformat_minor": 5
}
