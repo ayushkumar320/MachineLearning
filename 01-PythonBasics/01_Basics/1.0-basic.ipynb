{
 "cells": [
  {
   "cell_type": "markdown",
   "id": "40a2090e",
   "metadata": {},
   "source": [
    "### Basic Syntax Rules in Python\n"
   ]
  },
  {
   "cell_type": "code",
   "execution_count": 1,
   "id": "7ad2ccfb",
   "metadata": {},
   "outputs": [
    {
     "name": "stdout",
     "output_type": "stream",
     "text": [
      "Ayush\n",
      "Kumar\n"
     ]
    }
   ],
   "source": [
    "# Basic Syntax Rules in Python\n",
    "# Python is case sensitive\n",
    "\n",
    "name = \"Ayush\"\n",
    "Name = \"Kumar\"\n",
    "print(name)\n",
    "print(Name)"
   ]
  },
  {
   "cell_type": "markdown",
   "id": "dda0810a",
   "metadata": {},
   "source": [
    "### Indentation\n",
    "Indentation in Python is used to define the structure and hierarchy of code. Unlike many other programming languages that use braces {} or keywords to denote blocks of code, Python relies on indentation levels to indicate which statements belong to which blocks. This makes the code visually cleaner and easier to read."
   ]
  },
  {
   "cell_type": "code",
   "execution_count": 2,
   "id": "05a268bd",
   "metadata": {},
   "outputs": [
    {
     "name": "stdout",
     "output_type": "stream",
     "text": [
      "Hello\n",
      "World\n"
     ]
    }
   ],
   "source": [
    "# Indentation\n",
    "# Python uses indentation to define blocks of code. Consistent indentation is crucial.\n",
    "if True:\n",
    "  print(\"Hello\")\n",
    "  print(\"World\")"
   ]
  },
  {
   "cell_type": "code",
   "execution_count": 3,
   "id": "d3481f67",
   "metadata": {},
   "outputs": [
    {
     "name": "stdout",
     "output_type": "stream",
     "text": [
      "55\n"
     ]
    }
   ],
   "source": [
    "# Line Continuation\n",
    "\n",
    "total = 1 + 2 + 3 + 4 + 5 + 6 + 7 + \\\n",
    "8 + 9 + 10\n",
    "print(total)"
   ]
  },
  {
   "cell_type": "code",
   "execution_count": 4,
   "id": "53783a82",
   "metadata": {},
   "outputs": [
    {
     "name": "stdout",
     "output_type": "stream",
     "text": [
      "5 10 15\n"
     ]
    }
   ],
   "source": [
    "# Multiple Statements on a Single Line\n",
    "x = 5; y = 10; z = 15\n",
    "print(x, y, z)"
   ]
  },
  {
   "cell_type": "code",
   "execution_count": null,
   "id": "71bf67d4",
   "metadata": {},
   "outputs": [],
   "source": [
    " "
   ]
  }
 ],
 "metadata": {
  "kernelspec": {
   "display_name": "Python 3",
   "language": "python",
   "name": "python3"
  },
  "language_info": {
   "codemirror_mode": {
    "name": "ipython",
    "version": 3
   },
   "file_extension": ".py",
   "mimetype": "text/x-python",
   "name": "python",
   "nbconvert_exporter": "python",
   "pygments_lexer": "ipython3",
   "version": "3.12.0"
  }
 },
 "nbformat": 4,
 "nbformat_minor": 5
}
