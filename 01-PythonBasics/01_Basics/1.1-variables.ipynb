{
 "cells": [
  {
   "cell_type": "markdown",
   "id": "64203ceb",
   "metadata": {},
   "source": [
    "### Variables\n",
    "Variables in Python are used to store data values. A variable is created the moment you first assign a value to it. Python has no command for declaring a variable. A variable is created the moment you first assign a value to it.\n"
   ]
  },
  {
   "cell_type": "code",
   "execution_count": 1,
   "id": "e674d2fe",
   "metadata": {},
   "outputs": [
    {
     "name": "stdout",
     "output_type": "stream",
     "text": [
      "19 5.5 Ayush True\n"
     ]
    }
   ],
   "source": [
    "# Declaring and assigning variables\n",
    "age = 19\n",
    "height = 5.5\n",
    "name = \"Ayush\"\n",
    "is_student = True\n",
    "print(age, height, name, is_student)"
   ]
  },
  {
   "cell_type": "markdown",
   "id": "75459994",
   "metadata": {},
   "source": [
    "### Naming Conventions\n",
    "When naming variables in Python, there are a few conventions that are generally followed:\n",
    "1. Use descriptive names: Choose variable names that clearly describe the value they hold. For example, use `age` instead of `a`.\n",
    "2. Use lowercase letters: Variable names should be written in lowercase letters. If a name consists of multiple words, separate them with underscores (e.g., `first_name`, `last_name`).\n",
    "3. Avoid using reserved words: Do not use Python's reserved words (e.g., `if`, `else`, `while`) as variable names.\n",
    "4. Be consistent: Stick to a naming convention throughout your code to make it more readable.\n"
   ]
  },
  {
   "cell_type": "code",
   "execution_count": 3,
   "id": "48330c78",
   "metadata": {},
   "outputs": [
    {
     "name": "stdout",
     "output_type": "stream",
     "text": [
      "<class 'int'>\n",
      "<class 'float'>\n",
      "<class 'str'>\n",
      "<class 'bool'>\n"
     ]
    }
   ],
   "source": [
    "# Type Checking\n",
    "print(type(age))\n",
    "print(type(height))\n",
    "print(type(name))\n",
    "print(type(is_student))"
   ]
  },
  {
   "cell_type": "code",
   "execution_count": 4,
   "id": "2cc55b55",
   "metadata": {},
   "outputs": [
    {
     "name": "stdout",
     "output_type": "stream",
     "text": [
      "19 5 Ayush 1\n"
     ]
    }
   ],
   "source": [
    "# Type Casting\n",
    "age_str = str(age)\n",
    "height_int = int(height)\n",
    "name_str = str(name)\n",
    "is_student_int = int(is_student)\n",
    "print(age_str, height_int, name_str, is_student_int)"
   ]
  },
  {
   "cell_type": "code",
   "execution_count": 6,
   "id": "7538ed42",
   "metadata": {},
   "outputs": [
    {
     "name": "stdout",
     "output_type": "stream",
     "text": [
      "<class 'str'>\n"
     ]
    }
   ],
   "source": [
    "print(type(age_str))"
   ]
  },
  {
   "cell_type": "code",
   "execution_count": 7,
   "id": "4457ad4f",
   "metadata": {},
   "outputs": [
    {
     "name": "stdout",
     "output_type": "stream",
     "text": [
      "Sum: 24.0\n",
      "Difference: 0.0\n",
      "Product: 144.0\n",
      "Quotient: 1.0\n"
     ]
    }
   ],
   "source": [
    "# Simple Calculator\n",
    "num1 = float(input(\"Enter first number: \"))\n",
    "num2 = float(input(\"Enter second number: \"))\n",
    "sum = num1 + num2\n",
    "diff = num1 - num2\n",
    "prod = num1 * num2\n",
    "quot = num1 / num2\n",
    "print(\"Sum:\", sum)\n",
    "print(\"Difference:\", diff)\n",
    "print(\"Product:\", prod)\n",
    "print(\"Quotient:\", quot)"
   ]
  },
  {
   "cell_type": "code",
   "execution_count": null,
   "id": "aa01443d",
   "metadata": {},
   "outputs": [],
   "source": []
  }
 ],
 "metadata": {
  "kernelspec": {
   "display_name": "Python 3",
   "language": "python",
   "name": "python3"
  },
  "language_info": {
   "codemirror_mode": {
    "name": "ipython",
    "version": 3
   },
   "file_extension": ".py",
   "mimetype": "text/x-python",
   "name": "python",
   "nbconvert_exporter": "python",
   "pygments_lexer": "ipython3",
   "version": "3.12.0"
  }
 },
 "nbformat": 4,
 "nbformat_minor": 5
}
